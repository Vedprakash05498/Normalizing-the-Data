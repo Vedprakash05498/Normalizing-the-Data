{
  "nbformat": 4,
  "nbformat_minor": 0,
  "metadata": {
    "colab": {
      "provenance": []
    },
    "kernelspec": {
      "name": "python3",
      "display_name": "Python 3"
    },
    "language_info": {
      "name": "python"
    }
  },
  "cells": [
    {
      "cell_type": "code",
      "execution_count": 1,
      "metadata": {
        "id": "Q0J586eS1OsS"
      },
      "outputs": [],
      "source": [
        "import pandas as pd\n",
        "import seaborn as sns\n",
        "import matplotlib.pyplot as plt\n",
        "import warnings\n",
        "import numpy as np\n",
        "warnings.filterwarnings('ignore')\n",
        "%matplotlib inline"
      ]
    },
    {
      "cell_type": "code",
      "source": [
        "df = pd.read_csv('winequality.csv')\n",
        "df.head()"
      ],
      "metadata": {
        "colab": {
          "base_uri": "https://localhost:8080/",
          "height": 305
        },
        "id": "xAyOrrSX1iPA",
        "outputId": "1862a3b5-3249-4ee4-dab7-8698c76caa2f"
      },
      "execution_count": 8,
      "outputs": [
        {
          "output_type": "execute_result",
          "data": {
            "text/plain": [
              "   Unnamed: 0   type  fixed acidity  volatile acidity  citric acid  \\\n",
              "0         NaN  white            7.0              0.27         0.36   \n",
              "1         NaN  white            6.3              0.30         0.34   \n",
              "2         NaN  white            8.1              0.28         0.40   \n",
              "3         NaN  white            7.2              0.23         0.32   \n",
              "4         NaN  white            7.2              0.23         0.32   \n",
              "\n",
              "   residual sugar  chlorides  free sulfur dioxide  total sulfur dioxide  \\\n",
              "0            20.7      0.045                 45.0                 170.0   \n",
              "1             1.6      0.049                 14.0                 132.0   \n",
              "2             6.9      0.050                 30.0                  97.0   \n",
              "3             8.5      0.058                 47.0                 186.0   \n",
              "4             8.5      0.058                 47.0                 186.0   \n",
              "\n",
              "   density    pH  sulphates  alcohol  quality  \n",
              "0   1.0010  3.00       0.45      8.8        6  \n",
              "1   0.9940  3.30       0.49      9.5        6  \n",
              "2   0.9951  3.26       0.44     10.1        6  \n",
              "3   0.9956  3.19       0.40      9.9        6  \n",
              "4   0.9956  3.19       0.40      9.9        6  "
            ],
            "text/html": [
              "\n",
              "  <div id=\"df-2dd4cc80-0ae0-43cf-9409-2f893333a45f\">\n",
              "    <div class=\"colab-df-container\">\n",
              "      <div>\n",
              "<style scoped>\n",
              "    .dataframe tbody tr th:only-of-type {\n",
              "        vertical-align: middle;\n",
              "    }\n",
              "\n",
              "    .dataframe tbody tr th {\n",
              "        vertical-align: top;\n",
              "    }\n",
              "\n",
              "    .dataframe thead th {\n",
              "        text-align: right;\n",
              "    }\n",
              "</style>\n",
              "<table border=\"1\" class=\"dataframe\">\n",
              "  <thead>\n",
              "    <tr style=\"text-align: right;\">\n",
              "      <th></th>\n",
              "      <th>Unnamed: 0</th>\n",
              "      <th>type</th>\n",
              "      <th>fixed acidity</th>\n",
              "      <th>volatile acidity</th>\n",
              "      <th>citric acid</th>\n",
              "      <th>residual sugar</th>\n",
              "      <th>chlorides</th>\n",
              "      <th>free sulfur dioxide</th>\n",
              "      <th>total sulfur dioxide</th>\n",
              "      <th>density</th>\n",
              "      <th>pH</th>\n",
              "      <th>sulphates</th>\n",
              "      <th>alcohol</th>\n",
              "      <th>quality</th>\n",
              "    </tr>\n",
              "  </thead>\n",
              "  <tbody>\n",
              "    <tr>\n",
              "      <th>0</th>\n",
              "      <td>NaN</td>\n",
              "      <td>white</td>\n",
              "      <td>7.0</td>\n",
              "      <td>0.27</td>\n",
              "      <td>0.36</td>\n",
              "      <td>20.7</td>\n",
              "      <td>0.045</td>\n",
              "      <td>45.0</td>\n",
              "      <td>170.0</td>\n",
              "      <td>1.0010</td>\n",
              "      <td>3.00</td>\n",
              "      <td>0.45</td>\n",
              "      <td>8.8</td>\n",
              "      <td>6</td>\n",
              "    </tr>\n",
              "    <tr>\n",
              "      <th>1</th>\n",
              "      <td>NaN</td>\n",
              "      <td>white</td>\n",
              "      <td>6.3</td>\n",
              "      <td>0.30</td>\n",
              "      <td>0.34</td>\n",
              "      <td>1.6</td>\n",
              "      <td>0.049</td>\n",
              "      <td>14.0</td>\n",
              "      <td>132.0</td>\n",
              "      <td>0.9940</td>\n",
              "      <td>3.30</td>\n",
              "      <td>0.49</td>\n",
              "      <td>9.5</td>\n",
              "      <td>6</td>\n",
              "    </tr>\n",
              "    <tr>\n",
              "      <th>2</th>\n",
              "      <td>NaN</td>\n",
              "      <td>white</td>\n",
              "      <td>8.1</td>\n",
              "      <td>0.28</td>\n",
              "      <td>0.40</td>\n",
              "      <td>6.9</td>\n",
              "      <td>0.050</td>\n",
              "      <td>30.0</td>\n",
              "      <td>97.0</td>\n",
              "      <td>0.9951</td>\n",
              "      <td>3.26</td>\n",
              "      <td>0.44</td>\n",
              "      <td>10.1</td>\n",
              "      <td>6</td>\n",
              "    </tr>\n",
              "    <tr>\n",
              "      <th>3</th>\n",
              "      <td>NaN</td>\n",
              "      <td>white</td>\n",
              "      <td>7.2</td>\n",
              "      <td>0.23</td>\n",
              "      <td>0.32</td>\n",
              "      <td>8.5</td>\n",
              "      <td>0.058</td>\n",
              "      <td>47.0</td>\n",
              "      <td>186.0</td>\n",
              "      <td>0.9956</td>\n",
              "      <td>3.19</td>\n",
              "      <td>0.40</td>\n",
              "      <td>9.9</td>\n",
              "      <td>6</td>\n",
              "    </tr>\n",
              "    <tr>\n",
              "      <th>4</th>\n",
              "      <td>NaN</td>\n",
              "      <td>white</td>\n",
              "      <td>7.2</td>\n",
              "      <td>0.23</td>\n",
              "      <td>0.32</td>\n",
              "      <td>8.5</td>\n",
              "      <td>0.058</td>\n",
              "      <td>47.0</td>\n",
              "      <td>186.0</td>\n",
              "      <td>0.9956</td>\n",
              "      <td>3.19</td>\n",
              "      <td>0.40</td>\n",
              "      <td>9.9</td>\n",
              "      <td>6</td>\n",
              "    </tr>\n",
              "  </tbody>\n",
              "</table>\n",
              "</div>\n",
              "      <button class=\"colab-df-convert\" onclick=\"convertToInteractive('df-2dd4cc80-0ae0-43cf-9409-2f893333a45f')\"\n",
              "              title=\"Convert this dataframe to an interactive table.\"\n",
              "              style=\"display:none;\">\n",
              "        \n",
              "  <svg xmlns=\"http://www.w3.org/2000/svg\" height=\"24px\"viewBox=\"0 0 24 24\"\n",
              "       width=\"24px\">\n",
              "    <path d=\"M0 0h24v24H0V0z\" fill=\"none\"/>\n",
              "    <path d=\"M18.56 5.44l.94 2.06.94-2.06 2.06-.94-2.06-.94-.94-2.06-.94 2.06-2.06.94zm-11 1L8.5 8.5l.94-2.06 2.06-.94-2.06-.94L8.5 2.5l-.94 2.06-2.06.94zm10 10l.94 2.06.94-2.06 2.06-.94-2.06-.94-.94-2.06-.94 2.06-2.06.94z\"/><path d=\"M17.41 7.96l-1.37-1.37c-.4-.4-.92-.59-1.43-.59-.52 0-1.04.2-1.43.59L10.3 9.45l-7.72 7.72c-.78.78-.78 2.05 0 2.83L4 21.41c.39.39.9.59 1.41.59.51 0 1.02-.2 1.41-.59l7.78-7.78 2.81-2.81c.8-.78.8-2.07 0-2.86zM5.41 20L4 18.59l7.72-7.72 1.47 1.35L5.41 20z\"/>\n",
              "  </svg>\n",
              "      </button>\n",
              "      \n",
              "  <style>\n",
              "    .colab-df-container {\n",
              "      display:flex;\n",
              "      flex-wrap:wrap;\n",
              "      gap: 12px;\n",
              "    }\n",
              "\n",
              "    .colab-df-convert {\n",
              "      background-color: #E8F0FE;\n",
              "      border: none;\n",
              "      border-radius: 50%;\n",
              "      cursor: pointer;\n",
              "      display: none;\n",
              "      fill: #1967D2;\n",
              "      height: 32px;\n",
              "      padding: 0 0 0 0;\n",
              "      width: 32px;\n",
              "    }\n",
              "\n",
              "    .colab-df-convert:hover {\n",
              "      background-color: #E2EBFA;\n",
              "      box-shadow: 0px 1px 2px rgba(60, 64, 67, 0.3), 0px 1px 3px 1px rgba(60, 64, 67, 0.15);\n",
              "      fill: #174EA6;\n",
              "    }\n",
              "\n",
              "    [theme=dark] .colab-df-convert {\n",
              "      background-color: #3B4455;\n",
              "      fill: #D2E3FC;\n",
              "    }\n",
              "\n",
              "    [theme=dark] .colab-df-convert:hover {\n",
              "      background-color: #434B5C;\n",
              "      box-shadow: 0px 1px 3px 1px rgba(0, 0, 0, 0.15);\n",
              "      filter: drop-shadow(0px 1px 2px rgba(0, 0, 0, 0.3));\n",
              "      fill: #FFFFFF;\n",
              "    }\n",
              "  </style>\n",
              "\n",
              "      <script>\n",
              "        const buttonEl =\n",
              "          document.querySelector('#df-2dd4cc80-0ae0-43cf-9409-2f893333a45f button.colab-df-convert');\n",
              "        buttonEl.style.display =\n",
              "          google.colab.kernel.accessAllowed ? 'block' : 'none';\n",
              "\n",
              "        async function convertToInteractive(key) {\n",
              "          const element = document.querySelector('#df-2dd4cc80-0ae0-43cf-9409-2f893333a45f');\n",
              "          const dataTable =\n",
              "            await google.colab.kernel.invokeFunction('convertToInteractive',\n",
              "                                                     [key], {});\n",
              "          if (!dataTable) return;\n",
              "\n",
              "          const docLinkHtml = 'Like what you see? Visit the ' +\n",
              "            '<a target=\"_blank\" href=https://colab.research.google.com/notebooks/data_table.ipynb>data table notebook</a>'\n",
              "            + ' to learn more about interactive tables.';\n",
              "          element.innerHTML = '';\n",
              "          dataTable['output_type'] = 'display_data';\n",
              "          await google.colab.output.renderOutput(dataTable, element);\n",
              "          const docLink = document.createElement('div');\n",
              "          docLink.innerHTML = docLinkHtml;\n",
              "          element.appendChild(docLink);\n",
              "        }\n",
              "      </script>\n",
              "    </div>\n",
              "  </div>\n",
              "  "
            ]
          },
          "metadata": {},
          "execution_count": 8
        }
      ]
    },
    {
      "cell_type": "code",
      "source": [
        "df.describe()"
      ],
      "metadata": {
        "colab": {
          "base_uri": "https://localhost:8080/",
          "height": 236
        },
        "id": "xnbcI93I2Kzt",
        "outputId": "0be497c8-4161-4fa3-f7fd-800e76291b6b"
      },
      "execution_count": 3,
      "outputs": [
        {
          "output_type": "execute_result",
          "data": {
            "text/plain": [
              "       fixed acidity;\"volatile acidity\";\"citric acid\";\"residual sugar\";\"chlorides\";\"free sulfur dioxide\";\"total sulfur dioxide\";\"density\";\"pH\";\"sulphates\";\"alcohol\";\"quality\"\n",
              "count                                                1599                                                                                                                     \n",
              "unique                                               1359                                                                                                                     \n",
              "top     7.2;0.36;0.46;2.1;0.074;24;44;0.99534;3.4;0.85...                                                                                                                     \n",
              "freq                                                    4                                                                                                                     "
            ],
            "text/html": [
              "\n",
              "  <div id=\"df-15cb1a2a-4ddc-4f5a-b007-564f21a24687\">\n",
              "    <div class=\"colab-df-container\">\n",
              "      <div>\n",
              "<style scoped>\n",
              "    .dataframe tbody tr th:only-of-type {\n",
              "        vertical-align: middle;\n",
              "    }\n",
              "\n",
              "    .dataframe tbody tr th {\n",
              "        vertical-align: top;\n",
              "    }\n",
              "\n",
              "    .dataframe thead th {\n",
              "        text-align: right;\n",
              "    }\n",
              "</style>\n",
              "<table border=\"1\" class=\"dataframe\">\n",
              "  <thead>\n",
              "    <tr style=\"text-align: right;\">\n",
              "      <th></th>\n",
              "      <th>fixed acidity;\"volatile acidity\";\"citric acid\";\"residual sugar\";\"chlorides\";\"free sulfur dioxide\";\"total sulfur dioxide\";\"density\";\"pH\";\"sulphates\";\"alcohol\";\"quality\"</th>\n",
              "    </tr>\n",
              "  </thead>\n",
              "  <tbody>\n",
              "    <tr>\n",
              "      <th>count</th>\n",
              "      <td>1599</td>\n",
              "    </tr>\n",
              "    <tr>\n",
              "      <th>unique</th>\n",
              "      <td>1359</td>\n",
              "    </tr>\n",
              "    <tr>\n",
              "      <th>top</th>\n",
              "      <td>7.2;0.36;0.46;2.1;0.074;24;44;0.99534;3.4;0.85...</td>\n",
              "    </tr>\n",
              "    <tr>\n",
              "      <th>freq</th>\n",
              "      <td>4</td>\n",
              "    </tr>\n",
              "  </tbody>\n",
              "</table>\n",
              "</div>\n",
              "      <button class=\"colab-df-convert\" onclick=\"convertToInteractive('df-15cb1a2a-4ddc-4f5a-b007-564f21a24687')\"\n",
              "              title=\"Convert this dataframe to an interactive table.\"\n",
              "              style=\"display:none;\">\n",
              "        \n",
              "  <svg xmlns=\"http://www.w3.org/2000/svg\" height=\"24px\"viewBox=\"0 0 24 24\"\n",
              "       width=\"24px\">\n",
              "    <path d=\"M0 0h24v24H0V0z\" fill=\"none\"/>\n",
              "    <path d=\"M18.56 5.44l.94 2.06.94-2.06 2.06-.94-2.06-.94-.94-2.06-.94 2.06-2.06.94zm-11 1L8.5 8.5l.94-2.06 2.06-.94-2.06-.94L8.5 2.5l-.94 2.06-2.06.94zm10 10l.94 2.06.94-2.06 2.06-.94-2.06-.94-.94-2.06-.94 2.06-2.06.94z\"/><path d=\"M17.41 7.96l-1.37-1.37c-.4-.4-.92-.59-1.43-.59-.52 0-1.04.2-1.43.59L10.3 9.45l-7.72 7.72c-.78.78-.78 2.05 0 2.83L4 21.41c.39.39.9.59 1.41.59.51 0 1.02-.2 1.41-.59l7.78-7.78 2.81-2.81c.8-.78.8-2.07 0-2.86zM5.41 20L4 18.59l7.72-7.72 1.47 1.35L5.41 20z\"/>\n",
              "  </svg>\n",
              "      </button>\n",
              "      \n",
              "  <style>\n",
              "    .colab-df-container {\n",
              "      display:flex;\n",
              "      flex-wrap:wrap;\n",
              "      gap: 12px;\n",
              "    }\n",
              "\n",
              "    .colab-df-convert {\n",
              "      background-color: #E8F0FE;\n",
              "      border: none;\n",
              "      border-radius: 50%;\n",
              "      cursor: pointer;\n",
              "      display: none;\n",
              "      fill: #1967D2;\n",
              "      height: 32px;\n",
              "      padding: 0 0 0 0;\n",
              "      width: 32px;\n",
              "    }\n",
              "\n",
              "    .colab-df-convert:hover {\n",
              "      background-color: #E2EBFA;\n",
              "      box-shadow: 0px 1px 2px rgba(60, 64, 67, 0.3), 0px 1px 3px 1px rgba(60, 64, 67, 0.15);\n",
              "      fill: #174EA6;\n",
              "    }\n",
              "\n",
              "    [theme=dark] .colab-df-convert {\n",
              "      background-color: #3B4455;\n",
              "      fill: #D2E3FC;\n",
              "    }\n",
              "\n",
              "    [theme=dark] .colab-df-convert:hover {\n",
              "      background-color: #434B5C;\n",
              "      box-shadow: 0px 1px 3px 1px rgba(0, 0, 0, 0.15);\n",
              "      filter: drop-shadow(0px 1px 2px rgba(0, 0, 0, 0.3));\n",
              "      fill: #FFFFFF;\n",
              "    }\n",
              "  </style>\n",
              "\n",
              "      <script>\n",
              "        const buttonEl =\n",
              "          document.querySelector('#df-15cb1a2a-4ddc-4f5a-b007-564f21a24687 button.colab-df-convert');\n",
              "        buttonEl.style.display =\n",
              "          google.colab.kernel.accessAllowed ? 'block' : 'none';\n",
              "\n",
              "        async function convertToInteractive(key) {\n",
              "          const element = document.querySelector('#df-15cb1a2a-4ddc-4f5a-b007-564f21a24687');\n",
              "          const dataTable =\n",
              "            await google.colab.kernel.invokeFunction('convertToInteractive',\n",
              "                                                     [key], {});\n",
              "          if (!dataTable) return;\n",
              "\n",
              "          const docLinkHtml = 'Like what you see? Visit the ' +\n",
              "            '<a target=\"_blank\" href=https://colab.research.google.com/notebooks/data_table.ipynb>data table notebook</a>'\n",
              "            + ' to learn more about interactive tables.';\n",
              "          element.innerHTML = '';\n",
              "          dataTable['output_type'] = 'display_data';\n",
              "          await google.colab.output.renderOutput(dataTable, element);\n",
              "          const docLink = document.createElement('div');\n",
              "          docLink.innerHTML = docLinkHtml;\n",
              "          element.appendChild(docLink);\n",
              "        }\n",
              "      </script>\n",
              "    </div>\n",
              "  </div>\n",
              "  "
            ]
          },
          "metadata": {},
          "execution_count": 3
        }
      ]
    },
    {
      "cell_type": "code",
      "source": [
        "sns.distplot(df[\"free sulfur dioxide\"])"
      ],
      "metadata": {
        "colab": {
          "base_uri": "https://localhost:8080/",
          "height": 296
        },
        "id": "kwScgGaD2RB7",
        "outputId": "f870a081-dda1-44a0-f2bc-e0518986cbac"
      },
      "execution_count": 9,
      "outputs": [
        {
          "output_type": "execute_result",
          "data": {
            "text/plain": [
              "<matplotlib.axes._subplots.AxesSubplot at 0x7f17ae442820>"
            ]
          },
          "metadata": {},
          "execution_count": 9
        },
        {
          "output_type": "display_data",
          "data": {
            "text/plain": [
              "<Figure size 432x288 with 1 Axes>"
            ],
            "image/png": "[encoded data removed]"
          },
          "metadata": {
            "needs_background": "light"
          }
        }
      ]
    },
    {
      "cell_type": "code",
      "source": [
        "sns.distplot(df['alcohol'])"
      ],
      "metadata": {
        "colab": {
          "base_uri": "https://localhost:8080/",
          "height": 296
        },
        "id": "rIxsPE1j299V",
        "outputId": "15faa0f5-0ef1-4149-b83c-1cad8c35cba9"
      },
      "execution_count": 10,
      "outputs": [
        {
          "output_type": "execute_result",
          "data": {
            "text/plain": [
              "<matplotlib.axes._subplots.AxesSubplot at 0x7f17ac2f3ca0>"
            ]
          },
          "metadata": {},
          "execution_count": 10
        },
        {
          "output_type": "display_data",
          "data": {
            "text/plain": [
              "<Figure size 432x288 with 1 Axes>"
            ],
            "image/png": "[encoded data removed]"
          },
          "metadata": {
            "needs_background": "light"
          }
        }
      ]
    },
    {
      "cell_type": "code",
      "source": [
        "## value / max_value\n",
        "df_temp = df.copy()\n",
        "df_temp['free sulfur dioxide'] = df_temp['free sulfur dioxide'] / df_temp['free sulfur dioxide'].abs().max()\n",
        "sns.distplot(df_temp['free sulfur dioxide'])"
      ],
      "metadata": {
        "colab": {
          "base_uri": "https://localhost:8080/",
          "height": 296
        },
        "id": "rz2pCKy-6kYK",
        "outputId": "eb1ceb5b-6e4a-475c-bdc5-6a07c8a9bf2f"
      },
      "execution_count": 11,
      "outputs": [
        {
          "output_type": "execute_result",
          "data": {
            "text/plain": [
              "<matplotlib.axes._subplots.AxesSubplot at 0x7f17abe0df10>"
            ]
          },
          "metadata": {},
          "execution_count": 11
        },
        {
          "output_type": "display_data",
          "data": {
            "text/plain": [
              "<Figure size 432x288 with 1 Axes>"
            ],
            "image/png": "[encoded data removed]"
          },
          "metadata": {
            "needs_background": "light"
          }
        }
      ]
    },
    {
      "cell_type": "code",
      "source": [
        "df_temp['alcohol'] = df_temp['alcohol'] / df_temp['alcohol'].abs().max()\n",
        "sns.distplot(df_temp['alcohol'])"
      ],
      "metadata": {
        "colab": {
          "base_uri": "https://localhost:8080/",
          "height": 296
        },
        "id": "pAyh5ciE7VBJ",
        "outputId": "a8a81785-7333-4ee4-a56d-0979837f339a"
      },
      "execution_count": 12,
      "outputs": [
        {
          "output_type": "execute_result",
          "data": {
            "text/plain": [
              "<matplotlib.axes._subplots.AxesSubplot at 0x7f17abc97820>"
            ]
          },
          "metadata": {},
          "execution_count": 12
        },
        {
          "output_type": "display_data",
          "data": {
            "text/plain": [
              "<Figure size 432x288 with 1 Axes>"
            ],
            "image/png": "[encoded data removed]"
          },
          "metadata": {
            "needs_background": "light"
          }
        }
      ]
    },
    {
      "cell_type": "code",
      "source": [
        "# (value - min) / (max - min)\n",
        "df_temp = df.copy()\n",
        "df_temp['alcohol'] = (df_temp['alcohol'] - df_temp['alcohol'].min()) / (df_temp['alcohol'].max() - df_temp['alcohol'].min())\n",
        "sns.distplot(df_temp['alcohol'])"
      ],
      "metadata": {
        "colab": {
          "base_uri": "https://localhost:8080/",
          "height": 296
        },
        "id": "724e9u0P7Y9a",
        "outputId": "07478b39-f70b-44c7-a695-c31b3dd67d48"
      },
      "execution_count": 13,
      "outputs": [
        {
          "output_type": "execute_result",
          "data": {
            "text/plain": [
              "<matplotlib.axes._subplots.AxesSubplot at 0x7f17abd957c0>"
            ]
          },
          "metadata": {},
          "execution_count": 13
        },
        {
          "output_type": "display_data",
          "data": {
            "text/plain": [
              "<Figure size 432x288 with 1 Axes>"
            ],
            "image/png": "[encoded data removed]"
          },
          "metadata": {
            "needs_background": "light"
          }
        }
      ]
    },
    {
      "cell_type": "code",
      "source": [
        "# original_value = scaled_value * (max-min) + min\n",
        "#Log Transformation\n",
        "sns.distplot(df['total sulfur dioxide'])"
      ],
      "metadata": {
        "colab": {
          "base_uri": "https://localhost:8080/",
          "height": 298
        },
        "id": "zVcRls3o7ioE",
        "outputId": "b9e2aefd-8d63-402c-cc20-19aed1459df8"
      },
      "execution_count": 14,
      "outputs": [
        {
          "output_type": "execute_result",
          "data": {
            "text/plain": [
              "<matplotlib.axes._subplots.AxesSubplot at 0x7f17abb5f220>"
            ]
          },
          "metadata": {},
          "execution_count": 14
        },
        {
          "output_type": "display_data",
          "data": {
            "text/plain": [
              "<Figure size 432x288 with 1 Axes>"
            ],
            "image/png": "[encoded data removed]"
          },
          "metadata": {
            "needs_background": "light"
          }
        }
      ]
    },
    {
      "cell_type": "code",
      "source": [
        "df_temp = df.copy()\n",
        "df_temp['total sulfur dioxide'] = np.log(df_temp['total sulfur dioxide']+1)\n",
        "sns.distplot(df_temp['total sulfur dioxide'])"
      ],
      "metadata": {
        "colab": {
          "base_uri": "https://localhost:8080/",
          "height": 296
        },
        "id": "CazQEAOW7rX5",
        "outputId": "29ab5ad3-92dc-478b-ff0e-5ecc6de44f99"
      },
      "execution_count": 15,
      "outputs": [
        {
          "output_type": "execute_result",
          "data": {
            "text/plain": [
              "<matplotlib.axes._subplots.AxesSubplot at 0x7f17aba52eb0>"
            ]
          },
          "metadata": {},
          "execution_count": 15
        },
        {
          "output_type": "display_data",
          "data": {
            "text/plain": [
              "<Figure size 432x288 with 1 Axes>"
            ],
            "image/png": "[encoded data removed]"
          },
          "metadata": {
            "needs_background": "light"
          }
        }
      ]
    },
    {
      "cell_type": "code",
      "source": [
        "##Standardization of Data\n",
        "## z-score method\n",
        "# scaled_value = value - mean / std\n",
        "# original_value = scaled_value * std + mean\n",
        "sns.distplot(df['fixed acidity'])"
      ],
      "metadata": {
        "colab": {
          "base_uri": "https://localhost:8080/",
          "height": 296
        },
        "id": "wkb4O8kJ7wE1",
        "outputId": "e7bab3d7-d45a-426e-c619-e46fce9da069"
      },
      "execution_count": 17,
      "outputs": [
        {
          "output_type": "execute_result",
          "data": {
            "text/plain": [
              "<matplotlib.axes._subplots.AxesSubplot at 0x7f17ab9b62b0>"
            ]
          },
          "metadata": {},
          "execution_count": 17
        },
        {
          "output_type": "display_data",
          "data": {
            "text/plain": [
              "<Figure size 432x288 with 1 Axes>"
            ],
            "image/png": "[encoded data removed]"
          },
          "metadata": {
            "needs_background": "light"
          }
        }
      ]
    },
    {
      "cell_type": "code",
      "source": [
        "sns.distplot(df['pH'])"
      ],
      "metadata": {
        "colab": {
          "base_uri": "https://localhost:8080/",
          "height": 296
        },
        "id": "QGm5Hcix72QU",
        "outputId": "0121da1f-6550-467e-c6f9-1bdbf19ae1d7"
      },
      "execution_count": 18,
      "outputs": [
        {
          "output_type": "execute_result",
          "data": {
            "text/plain": [
              "<matplotlib.axes._subplots.AxesSubplot at 0x7f17abc30e20>"
            ]
          },
          "metadata": {},
          "execution_count": 18
        },
        {
          "output_type": "display_data",
          "data": {
            "text/plain": [
              "<Figure size 432x288 with 1 Axes>"
            ],
            "image/png": "[encoded data removed]"
          },
          "metadata": {
            "needs_background": "light"
          }
        }
      ]
    },
    {
      "cell_type": "code",
      "source": [
        "scaled_data = df.copy()\n",
        "## apply the formula\n",
        "for col in ['fixed acidity', 'pH']:\n",
        "    scaled_data[col] = (scaled_data[col] - scaled_data[col].mean()) / scaled_data[col].std()\n",
        "sns.distplot(scaled_data['fixed acidity'])\n"
      ],
      "metadata": {
        "colab": {
          "base_uri": "https://localhost:8080/",
          "height": 296
        },
        "id": "8XF29PqO7-5y",
        "outputId": "bed056e3-d73b-4690-f03b-3ba560238eb9"
      },
      "execution_count": 19,
      "outputs": [
        {
          "output_type": "execute_result",
          "data": {
            "text/plain": [
              "<matplotlib.axes._subplots.AxesSubplot at 0x7f17ab7e86d0>"
            ]
          },
          "metadata": {},
          "execution_count": 19
        },
        {
          "output_type": "display_data",
          "data": {
            "text/plain": [
              "<Figure size 432x288 with 1 Axes>"
            ],
            "image/png": "[encoded data removed]"
          },
          "metadata": {
            "needs_background": "light"
          }
        }
      ]
    },
    {
      "cell_type": "code",
      "source": [
        "sns.distplot(scaled_data['pH'])"
      ],
      "metadata": {
        "colab": {
          "base_uri": "https://localhost:8080/",
          "height": 296
        },
        "id": "eFrPmdfL8Bem",
        "outputId": "91046091-23ec-453a-e1e1-34fa909a1309"
      },
      "execution_count": 20,
      "outputs": [
        {
          "output_type": "execute_result",
          "data": {
            "text/plain": [
              "<matplotlib.axes._subplots.AxesSubplot at 0x7f17ab866730>"
            ]
          },
          "metadata": {},
          "execution_count": 20
        },
        {
          "output_type": "display_data",
          "data": {
            "text/plain": [
              "<Figure size 432x288 with 1 Axes>"
            ],
            "image/png": "[encoded data removed]"
          },
          "metadata": {
            "needs_background": "light"
          }
        }
      ]
    },
    {
      "cell_type": "code",
      "source": [
        "from sklearn.preprocessing import StandardScaler\n",
        "sc = StandardScaler()\n",
        "sc.fit(df[['pH']])\n",
        "StandardScaler()\n",
        "sc_data = sc.transform(df[['pH']])\n",
        "sc_data = sc_data.reshape(-1)\n",
        "sns.distplot(df['pH'])"
      ],
      "metadata": {
        "colab": {
          "base_uri": "https://localhost:8080/",
          "height": 296
        },
        "id": "KdKSJSFZ8Fd9",
        "outputId": "e9110d02-4b9d-4347-989c-513ab978dd51"
      },
      "execution_count": 21,
      "outputs": [
        {
          "output_type": "execute_result",
          "data": {
            "text/plain": [
              "<matplotlib.axes._subplots.AxesSubplot at 0x7f17aaecf3d0>"
            ]
          },
          "metadata": {},
          "execution_count": 21
        },
        {
          "output_type": "display_data",
          "data": {
            "text/plain": [
              "<Figure size 432x288 with 1 Axes>"
            ],
            "image/png": "[encoded data removed]"
          },
          "metadata": {
            "needs_background": "light"
          }
        }
      ]
    },
    {
      "cell_type": "code",
      "source": [
        "sns.distplot(sc_data)"
      ],
      "metadata": {
        "colab": {
          "base_uri": "https://localhost:8080/",
          "height": 282
        },
        "id": "c39p-xY88OVc",
        "outputId": "fec9e065-3eb3-445f-d53c-347b67620549"
      },
      "execution_count": 22,
      "outputs": [
        {
          "output_type": "execute_result",
          "data": {
            "text/plain": [
              "<matplotlib.axes._subplots.AxesSubplot at 0x7f17aaef9bb0>"
            ]
          },
          "metadata": {},
          "execution_count": 22
        },
        {
          "output_type": "display_data",
          "data": {
            "text/plain": [
              "<Figure size 432x288 with 1 Axes>"
            ],
            "image/png": "[encoded data removed]"
          },
          "metadata": {
            "needs_background": "light"
          }
        }
      ]
    },
    {
      "cell_type": "code",
      "source": [
        "#Detect and Remove Outliers\n",
        "df.describe()"
      ],
      "metadata": {
        "colab": {
          "base_uri": "https://localhost:8080/",
          "height": 399
        },
        "id": "CtTg2dg48Tlq",
        "outputId": "077842fc-4ef2-4c0a-b0a8-6d6fa454d72a"
      },
      "execution_count": 23,
      "outputs": [
        {
          "output_type": "execute_result",
          "data": {
            "text/plain": [
              "       Unnamed: 0  fixed acidity  volatile acidity  citric acid  \\\n",
              "count         0.0    6487.000000       6489.000000  6494.000000   \n",
              "mean          NaN       7.216579          0.339691     0.318722   \n",
              "std           NaN       1.296750          0.164649     0.145265   \n",
              "min           NaN       3.800000          0.080000     0.000000   \n",
              "25%           NaN       6.400000          0.230000     0.250000   \n",
              "50%           NaN       7.000000          0.290000     0.310000   \n",
              "75%           NaN       7.700000          0.400000     0.390000   \n",
              "max           NaN      15.900000          1.580000     1.660000   \n",
              "\n",
              "       residual sugar    chlorides  free sulfur dioxide  total sulfur dioxide  \\\n",
              "count     6495.000000  6495.000000          6497.000000           6497.000000   \n",
              "mean         5.444326     0.056042            30.525319            115.744574   \n",
              "std          4.758125     0.035036            17.749400             56.521855   \n",
              "min          0.600000     0.009000             1.000000              6.000000   \n",
              "25%          1.800000     0.038000            17.000000             77.000000   \n",
              "50%          3.000000     0.047000            29.000000            118.000000   \n",
              "75%          8.100000     0.065000            41.000000            156.000000   \n",
              "max         65.800000     0.611000           289.000000            440.000000   \n",
              "\n",
              "           density           pH    sulphates      alcohol      quality  \n",
              "count  6497.000000  6488.000000  6493.000000  6497.000000  6497.000000  \n",
              "mean      0.994697     3.218395     0.531215    10.491801     5.818378  \n",
              "std       0.002999     0.160748     0.148814     1.192712     0.873255  \n",
              "min       0.987110     2.720000     0.220000     8.000000     3.000000  \n",
              "25%       0.992340     3.110000     0.430000     9.500000     5.000000  \n",
              "50%       0.994890     3.210000     0.510000    10.300000     6.000000  \n",
              "75%       0.996990     3.320000     0.600000    11.300000     6.000000  \n",
              "max       1.038980     4.010000     2.000000    14.900000     9.000000  "
            ],
            "text/html": [
              "\n",
              "  <div id=\"df-3d810418-d6d4-4686-9588-832f414433ca\">\n",
              "    <div class=\"colab-df-container\">\n",
              "      <div>\n",
              "<style scoped>\n",
              "    .dataframe tbody tr th:only-of-type {\n",
              "        vertical-align: middle;\n",
              "    }\n",
              "\n",
              "    .dataframe tbody tr th {\n",
              "        vertical-align: top;\n",
              "    }\n",
              "\n",
              "    .dataframe thead th {\n",
              "        text-align: right;\n",
              "    }\n",
              "</style>\n",
              "<table border=\"1\" class=\"dataframe\">\n",
              "  <thead>\n",
              "    <tr style=\"text-align: right;\">\n",
              "      <th></th>\n",
              "      <th>Unnamed: 0</th>\n",
              "      <th>fixed acidity</th>\n",
              "      <th>volatile acidity</th>\n",
              "      <th>citric acid</th>\n",
              "      <th>residual sugar</th>\n",
              "      <th>chlorides</th>\n",
              "      <th>free sulfur dioxide</th>\n",
              "      <th>total sulfur dioxide</th>\n",
              "      <th>density</th>\n",
              "      <th>pH</th>\n",
              "      <th>sulphates</th>\n",
              "      <th>alcohol</th>\n",
              "      <th>quality</th>\n",
              "    </tr>\n",
              "  </thead>\n",
              "  <tbody>\n",
              "    <tr>\n",
              "      <th>count</th>\n",
              "      <td>0.0</td>\n",
              "      <td>6487.000000</td>\n",
              "      <td>6489.000000</td>\n",
              "      <td>6494.000000</td>\n",
              "      <td>6495.000000</td>\n",
              "      <td>6495.000000</td>\n",
              "      <td>6497.000000</td>\n",
              "      <td>6497.000000</td>\n",
              "      <td>6497.000000</td>\n",
              "      <td>6488.000000</td>\n",
              "      <td>6493.000000</td>\n",
              "      <td>6497.000000</td>\n",
              "      <td>6497.000000</td>\n",
              "    </tr>\n",
              "    <tr>\n",
              "      <th>mean</th>\n",
              "      <td>NaN</td>\n",
              "      <td>7.216579</td>\n",
              "      <td>0.339691</td>\n",
              "      <td>0.318722</td>\n",
              "      <td>5.444326</td>\n",
              "      <td>0.056042</td>\n",
              "      <td>30.525319</td>\n",
              "      <td>115.744574</td>\n",
              "      <td>0.994697</td>\n",
              "      <td>3.218395</td>\n",
              "      <td>0.531215</td>\n",
              "      <td>10.491801</td>\n",
              "      <td>5.818378</td>\n",
              "    </tr>\n",
              "    <tr>\n",
              "      <th>std</th>\n",
              "      <td>NaN</td>\n",
              "      <td>1.296750</td>\n",
              "      <td>0.164649</td>\n",
              "      <td>0.145265</td>\n",
              "      <td>4.758125</td>\n",
              "      <td>0.035036</td>\n",
              "      <td>17.749400</td>\n",
              "      <td>56.521855</td>\n",
              "      <td>0.002999</td>\n",
              "      <td>0.160748</td>\n",
              "      <td>0.148814</td>\n",
              "      <td>1.192712</td>\n",
              "      <td>0.873255</td>\n",
              "    </tr>\n",
              "    <tr>\n",
              "      <th>min</th>\n",
              "      <td>NaN</td>\n",
              "      <td>3.800000</td>\n",
              "      <td>0.080000</td>\n",
              "      <td>0.000000</td>\n",
              "      <td>0.600000</td>\n",
              "      <td>0.009000</td>\n",
              "      <td>1.000000</td>\n",
              "      <td>6.000000</td>\n",
              "      <td>0.987110</td>\n",
              "      <td>2.720000</td>\n",
              "      <td>0.220000</td>\n",
              "      <td>8.000000</td>\n",
              "      <td>3.000000</td>\n",
              "    </tr>\n",
              "    <tr>\n",
              "      <th>25%</th>\n",
              "      <td>NaN</td>\n",
              "      <td>6.400000</td>\n",
              "      <td>0.230000</td>\n",
              "      <td>0.250000</td>\n",
              "      <td>1.800000</td>\n",
              "      <td>0.038000</td>\n",
              "      <td>17.000000</td>\n",
              "      <td>77.000000</td>\n",
              "      <td>0.992340</td>\n",
              "      <td>3.110000</td>\n",
              "      <td>0.430000</td>\n",
              "      <td>9.500000</td>\n",
              "      <td>5.000000</td>\n",
              "    </tr>\n",
              "    <tr>\n",
              "      <th>50%</th>\n",
              "      <td>NaN</td>\n",
              "      <td>7.000000</td>\n",
              "      <td>0.290000</td>\n",
              "      <td>0.310000</td>\n",
              "      <td>3.000000</td>\n",
              "      <td>0.047000</td>\n",
              "      <td>29.000000</td>\n",
              "      <td>118.000000</td>\n",
              "      <td>0.994890</td>\n",
              "      <td>3.210000</td>\n",
              "      <td>0.510000</td>\n",
              "      <td>10.300000</td>\n",
              "      <td>6.000000</td>\n",
              "    </tr>\n",
              "    <tr>\n",
              "      <th>75%</th>\n",
              "      <td>NaN</td>\n",
              "      <td>7.700000</td>\n",
              "      <td>0.400000</td>\n",
              "      <td>0.390000</td>\n",
              "      <td>8.100000</td>\n",
              "      <td>0.065000</td>\n",
              "      <td>41.000000</td>\n",
              "      <td>156.000000</td>\n",
              "      <td>0.996990</td>\n",
              "      <td>3.320000</td>\n",
              "      <td>0.600000</td>\n",
              "      <td>11.300000</td>\n",
              "      <td>6.000000</td>\n",
              "    </tr>\n",
              "    <tr>\n",
              "      <th>max</th>\n",
              "      <td>NaN</td>\n",
              "      <td>15.900000</td>\n",
              "      <td>1.580000</td>\n",
              "      <td>1.660000</td>\n",
              "      <td>65.800000</td>\n",
              "      <td>0.611000</td>\n",
              "      <td>289.000000</td>\n",
              "      <td>440.000000</td>\n",
              "      <td>1.038980</td>\n",
              "      <td>4.010000</td>\n",
              "      <td>2.000000</td>\n",
              "      <td>14.900000</td>\n",
              "      <td>9.000000</td>\n",
              "    </tr>\n",
              "  </tbody>\n",
              "</table>\n",
              "</div>\n",
              "      <button class=\"colab-df-convert\" onclick=\"convertToInteractive('df-3d810418-d6d4-4686-9588-832f414433ca')\"\n",
              "              title=\"Convert this dataframe to an interactive table.\"\n",
              "              style=\"display:none;\">\n",
              "        \n",
              "  <svg xmlns=\"http://www.w3.org/2000/svg\" height=\"24px\"viewBox=\"0 0 24 24\"\n",
              "       width=\"24px\">\n",
              "    <path d=\"M0 0h24v24H0V0z\" fill=\"none\"/>\n",
              "    <path d=\"M18.56 5.44l.94 2.06.94-2.06 2.06-.94-2.06-.94-.94-2.06-.94 2.06-2.06.94zm-11 1L8.5 8.5l.94-2.06 2.06-.94-2.06-.94L8.5 2.5l-.94 2.06-2.06.94zm10 10l.94 2.06.94-2.06 2.06-.94-2.06-.94-.94-2.06-.94 2.06-2.06.94z\"/><path d=\"M17.41 7.96l-1.37-1.37c-.4-.4-.92-.59-1.43-.59-.52 0-1.04.2-1.43.59L10.3 9.45l-7.72 7.72c-.78.78-.78 2.05 0 2.83L4 21.41c.39.39.9.59 1.41.59.51 0 1.02-.2 1.41-.59l7.78-7.78 2.81-2.81c.8-.78.8-2.07 0-2.86zM5.41 20L4 18.59l7.72-7.72 1.47 1.35L5.41 20z\"/>\n",
              "  </svg>\n",
              "      </button>\n",
              "      \n",
              "  <style>\n",
              "    .colab-df-container {\n",
              "      display:flex;\n",
              "      flex-wrap:wrap;\n",
              "      gap: 12px;\n",
              "    }\n",
              "\n",
              "    .colab-df-convert {\n",
              "      background-color: #E8F0FE;\n",
              "      border: none;\n",
              "      border-radius: 50%;\n",
              "      cursor: pointer;\n",
              "      display: none;\n",
              "      fill: #1967D2;\n",
              "      height: 32px;\n",
              "      padding: 0 0 0 0;\n",
              "      width: 32px;\n",
              "    }\n",
              "\n",
              "    .colab-df-convert:hover {\n",
              "      background-color: #E2EBFA;\n",
              "      box-shadow: 0px 1px 2px rgba(60, 64, 67, 0.3), 0px 1px 3px 1px rgba(60, 64, 67, 0.15);\n",
              "      fill: #174EA6;\n",
              "    }\n",
              "\n",
              "    [theme=dark] .colab-df-convert {\n",
              "      background-color: #3B4455;\n",
              "      fill: #D2E3FC;\n",
              "    }\n",
              "\n",
              "    [theme=dark] .colab-df-convert:hover {\n",
              "      background-color: #434B5C;\n",
              "      box-shadow: 0px 1px 3px 1px rgba(0, 0, 0, 0.15);\n",
              "      filter: drop-shadow(0px 1px 2px rgba(0, 0, 0, 0.3));\n",
              "      fill: #FFFFFF;\n",
              "    }\n",
              "  </style>\n",
              "\n",
              "      <script>\n",
              "        const buttonEl =\n",
              "          document.querySelector('#df-3d810418-d6d4-4686-9588-832f414433ca button.colab-df-convert');\n",
              "        buttonEl.style.display =\n",
              "          google.colab.kernel.accessAllowed ? 'block' : 'none';\n",
              "\n",
              "        async function convertToInteractive(key) {\n",
              "          const element = document.querySelector('#df-3d810418-d6d4-4686-9588-832f414433ca');\n",
              "          const dataTable =\n",
              "            await google.colab.kernel.invokeFunction('convertToInteractive',\n",
              "                                                     [key], {});\n",
              "          if (!dataTable) return;\n",
              "\n",
              "          const docLinkHtml = 'Like what you see? Visit the ' +\n",
              "            '<a target=\"_blank\" href=https://colab.research.google.com/notebooks/data_table.ipynb>data table notebook</a>'\n",
              "            + ' to learn more about interactive tables.';\n",
              "          element.innerHTML = '';\n",
              "          dataTable['output_type'] = 'display_data';\n",
              "          await google.colab.output.renderOutput(dataTable, element);\n",
              "          const docLink = document.createElement('div');\n",
              "          docLink.innerHTML = docLinkHtml;\n",
              "          element.appendChild(docLink);\n",
              "        }\n",
              "      </script>\n",
              "    </div>\n",
              "  </div>\n",
              "  "
            ]
          },
          "metadata": {},
          "execution_count": 23
        }
      ]
    },
    {
      "cell_type": "code",
      "source": [
        "sns.distplot(df['residual sugar'])"
      ],
      "metadata": {
        "colab": {
          "base_uri": "https://localhost:8080/",
          "height": 296
        },
        "id": "ZXGaWh-I8XAd",
        "outputId": "66e9dde0-f52d-46ff-f520-3855c63c1f6a"
      },
      "execution_count": 24,
      "outputs": [
        {
          "output_type": "execute_result",
          "data": {
            "text/plain": [
              "<matplotlib.axes._subplots.AxesSubplot at 0x7f17aad32a60>"
            ]
          },
          "metadata": {},
          "execution_count": 24
        },
        {
          "output_type": "display_data",
          "data": {
            "text/plain": [
              "<Figure size 432x288 with 1 Axes>"
            ],
            "image/png": "[encoded data removed]"
          },
          "metadata": {
            "needs_background": "light"
          }
        }
      ]
    },
    {
      "cell_type": "code",
      "source": [
        "# to see outliers clearly\n",
        "sns.boxplot(df['residual sugar'])"
      ],
      "metadata": {
        "colab": {
          "base_uri": "https://localhost:8080/",
          "height": 296
        },
        "id": "mqb9mADO8bP7",
        "outputId": "0384e8ba-e4a9-471d-bb99-94fe111704b8"
      },
      "execution_count": 25,
      "outputs": [
        {
          "output_type": "execute_result",
          "data": {
            "text/plain": [
              "<matplotlib.axes._subplots.AxesSubplot at 0x7f17aabd1c70>"
            ]
          },
          "metadata": {},
          "execution_count": 25
        },
        {
          "output_type": "display_data",
          "data": {
            "text/plain": [
              "<Figure size 432x288 with 1 Axes>"
            ],
            "image/png": "[encoded data removed]"
          },
          "metadata": {
            "needs_background": "light"
          }
        }
      ]
    },
    {
      "cell_type": "code",
      "source": [
        "##Z-score method\n",
        "# find the limits\n",
        "upper_limit = df['residual sugar'].mean() + 3*df['residual sugar'].std()\n",
        "lower_limit = df['residual sugar'].mean() - 3*df['residual sugar'].std()\n",
        "print('upper limit:', upper_limit)\n",
        "print('lower limit:', lower_limit)"
      ],
      "metadata": {
        "colab": {
          "base_uri": "https://localhost:8080/"
        },
        "id": "6wiONS1W8fJ9",
        "outputId": "f6ca492d-1e75-42dd-a96c-014733c0d3b6"
      },
      "execution_count": 26,
      "outputs": [
        {
          "output_type": "stream",
          "name": "stdout",
          "text": [
            "upper limit: 19.718700632945\n",
            "lower limit: -8.830047823091265\n"
          ]
        }
      ]
    },
    {
      "cell_type": "code",
      "source": [
        "# find the outliers\n",
        "df.loc[(df['residual sugar'] > upper_limit) | (df['residual sugar'] < lower_limit)]"
      ],
      "metadata": {
        "colab": {
          "base_uri": "https://localhost:8080/",
          "height": 963
        },
        "id": "O2DGirHa8oIw",
        "outputId": "b2bfbde6-8303-42f9-fa74-fd7aa091480f"
      },
      "execution_count": 27,
      "outputs": [
        {
          "output_type": "execute_result",
          "data": {
            "text/plain": [
              "      Unnamed: 0   type  fixed acidity  volatile acidity  citric acid  \\\n",
              "0            NaN  white            7.0             0.270         0.36   \n",
              "7            NaN  white            7.0             0.270         0.36   \n",
              "182          NaN  white            6.8             0.280         0.40   \n",
              "191          NaN  white            6.8             0.280         0.40   \n",
              "292          NaN  white            7.4             0.280         0.42   \n",
              "444          NaN  white            6.9             0.240         0.36   \n",
              "1454         NaN  white            8.3             0.210         0.49   \n",
              "1608         NaN  white            6.9             0.270         0.49   \n",
              "1653         NaN  white            7.9             0.330         0.28   \n",
              "1663         NaN  white            7.9             0.330         0.28   \n",
              "2489         NaN  white            6.1             0.280         0.24   \n",
              "2492         NaN  white            6.1             0.280         0.24   \n",
              "2620         NaN  white            6.5             0.280         0.28   \n",
              "2781         NaN  white            7.8             0.965         0.60   \n",
              "2785         NaN  white            6.4             0.240         0.25   \n",
              "2787         NaN  white            6.4             0.240         0.25   \n",
              "3014         NaN  white            7.0             0.450         0.34   \n",
              "3023         NaN  white            7.0             0.450         0.34   \n",
              "3420         NaN  white            7.6             0.280         0.49   \n",
              "3497         NaN  white            7.7             0.430         1.00   \n",
              "3547         NaN  white            7.3             0.200         0.29   \n",
              "3619         NaN  white            6.8             0.450         0.28   \n",
              "3623         NaN  white            6.8             0.450         0.28   \n",
              "3730         NaN  white            6.2             0.220         0.20   \n",
              "4107         NaN  white            6.8             0.300         0.26   \n",
              "4480         NaN  white            5.9             0.220         0.45   \n",
              "\n",
              "      residual sugar  chlorides  free sulfur dioxide  total sulfur dioxide  \\\n",
              "0              20.70      0.045                 45.0                 170.0   \n",
              "7              20.70      0.045                 45.0                 170.0   \n",
              "182            22.00      0.048                 48.0                 167.0   \n",
              "191            22.00      0.048                 48.0                 167.0   \n",
              "292            19.80      0.066                 53.0                 195.0   \n",
              "444            20.80      0.031                 40.0                 139.0   \n",
              "1454           19.80      0.054                 50.0                 231.0   \n",
              "1608           23.50      0.057                 59.0                 235.0   \n",
              "1653           31.60      0.053                 35.0                 176.0   \n",
              "1663           31.60      0.053                 35.0                 176.0   \n",
              "2489           19.95      0.074                 32.0                 174.0   \n",
              "2492           19.95      0.074                 32.0                 174.0   \n",
              "2620           20.40      0.041                 40.0                 144.0   \n",
              "2781           65.80      0.074                  8.0                 160.0   \n",
              "2785           20.20      0.083                 35.0                 157.0   \n",
              "2787           20.20      0.083                 35.0                 157.0   \n",
              "3014           19.80      0.040                 12.0                  67.0   \n",
              "3023           19.80      0.040                 12.0                  67.0   \n",
              "3420           20.15      0.060                 30.0                 145.0   \n",
              "3497           19.95      0.032                 42.0                 164.0   \n",
              "3547           19.90      0.039                 69.0                 237.0   \n",
              "3619           26.05      0.031                 27.0                 122.0   \n",
              "3623           26.05      0.031                 27.0                 122.0   \n",
              "3730           20.80      0.035                 58.0                 184.0   \n",
              "4107           20.30      0.037                 45.0                 150.0   \n",
              "4480           22.60      0.120                 55.0                 122.0   \n",
              "\n",
              "      density    pH  sulphates  alcohol  quality  \n",
              "0     1.00100  3.00       0.45      8.8        6  \n",
              "7     1.00100  3.00       0.45      8.8        6  \n",
              "182   1.00100  2.93       0.50      8.7        5  \n",
              "191   1.00100  2.93       0.50      8.7        5  \n",
              "292   1.00000  2.96       0.44      9.1        5  \n",
              "444   0.99750  3.20       0.33     11.0        6  \n",
              "1454  1.00120  2.99       0.54      9.2        5  \n",
              "1608  1.00240  2.98       0.47      8.6        5  \n",
              "1653  1.01030  3.15       0.38      8.8        6  \n",
              "1663  1.01030  3.15       0.38      8.8        6  \n",
              "2489  0.99922  3.19       0.44      9.3        6  \n",
              "2492  0.99922  3.19       0.44      9.3        6  \n",
              "2620  1.00020  3.14       0.38      8.7        5  \n",
              "2781  1.03898  3.39       0.69     11.7        6  \n",
              "2785  0.99976  3.17       0.50      9.1        5  \n",
              "2787  0.99976  3.17       0.50      9.1        5  \n",
              "3014  0.99760  3.07       0.38     11.0        6  \n",
              "3023  0.99760  3.07       0.38     11.0        6  \n",
              "3420  1.00196  3.01       0.44      8.5        5  \n",
              "3497  0.99742  3.29       0.50     12.0        6  \n",
              "3547  1.00037  3.10       0.48      9.2        6  \n",
              "3619  1.00295  3.06       0.42     10.6        6  \n",
              "3623  1.00295  3.06       0.42     10.6        6  \n",
              "3730  1.00022  3.11       0.53      9.0        6  \n",
              "4107  0.99727  3.04       0.38     12.3        6  \n",
              "4480  0.99636  3.10       0.35     12.8        5  "
            ],
            "text/html": [
              "\n",
              "  <div id=\"df-711b6159-ed33-4dbe-8453-273d180b0a92\">\n",
              "    <div class=\"colab-df-container\">\n",
              "      <div>\n",
              "<style scoped>\n",
              "    .dataframe tbody tr th:only-of-type {\n",
              "        vertical-align: middle;\n",
              "    }\n",
              "\n",
              "    .dataframe tbody tr th {\n",
              "        vertical-align: top;\n",
              "    }\n",
              "\n",
              "    .dataframe thead th {\n",
              "        text-align: right;\n",
              "    }\n",
              "</style>\n",
              "<table border=\"1\" class=\"dataframe\">\n",
              "  <thead>\n",
              "    <tr style=\"text-align: right;\">\n",
              "      <th></th>\n",
              "      <th>Unnamed: 0</th>\n",
              "      <th>type</th>\n",
              "      <th>fixed acidity</th>\n",
              "      <th>volatile acidity</th>\n",
              "      <th>citric acid</th>\n",
              "      <th>residual sugar</th>\n",
              "      <th>chlorides</th>\n",
              "      <th>free sulfur dioxide</th>\n",
              "      <th>total sulfur dioxide</th>\n",
              "      <th>density</th>\n",
              "      <th>pH</th>\n",
              "      <th>sulphates</th>\n",
              "      <th>alcohol</th>\n",
              "      <th>quality</th>\n",
              "    </tr>\n",
              "  </thead>\n",
              "  <tbody>\n",
              "    <tr>\n",
              "      <th>0</th>\n",
              "      <td>NaN</td>\n",
              "      <td>white</td>\n",
              "      <td>7.0</td>\n",
              "      <td>0.270</td>\n",
              "      <td>0.36</td>\n",
              "      <td>20.70</td>\n",
              "      <td>0.045</td>\n",
              "      <td>45.0</td>\n",
              "      <td>170.0</td>\n",
              "      <td>1.00100</td>\n",
              "      <td>3.00</td>\n",
              "      <td>0.45</td>\n",
              "      <td>8.8</td>\n",
              "      <td>6</td>\n",
              "    </tr>\n",
              "    <tr>\n",
              "      <th>7</th>\n",
              "      <td>NaN</td>\n",
              "      <td>white</td>\n",
              "      <td>7.0</td>\n",
              "      <td>0.270</td>\n",
              "      <td>0.36</td>\n",
              "      <td>20.70</td>\n",
              "      <td>0.045</td>\n",
              "      <td>45.0</td>\n",
              "      <td>170.0</td>\n",
              "      <td>1.00100</td>\n",
              "      <td>3.00</td>\n",
              "      <td>0.45</td>\n",
              "      <td>8.8</td>\n",
              "      <td>6</td>\n",
              "    </tr>\n",
              "    <tr>\n",
              "      <th>182</th>\n",
              "      <td>NaN</td>\n",
              "      <td>white</td>\n",
              "      <td>6.8</td>\n",
              "      <td>0.280</td>\n",
              "      <td>0.40</td>\n",
              "      <td>22.00</td>\n",
              "      <td>0.048</td>\n",
              "      <td>48.0</td>\n",
              "      <td>167.0</td>\n",
              "      <td>1.00100</td>\n",
              "      <td>2.93</td>\n",
              "      <td>0.50</td>\n",
              "      <td>8.7</td>\n",
              "      <td>5</td>\n",
              "    </tr>\n",
              "    <tr>\n",
              "      <th>191</th>\n",
              "      <td>NaN</td>\n",
              "      <td>white</td>\n",
              "      <td>6.8</td>\n",
              "      <td>0.280</td>\n",
              "      <td>0.40</td>\n",
              "      <td>22.00</td>\n",
              "      <td>0.048</td>\n",
              "      <td>48.0</td>\n",
              "      <td>167.0</td>\n",
              "      <td>1.00100</td>\n",
              "      <td>2.93</td>\n",
              "      <td>0.50</td>\n",
              "      <td>8.7</td>\n",
              "      <td>5</td>\n",
              "    </tr>\n",
              "    <tr>\n",
              "      <th>292</th>\n",
              "      <td>NaN</td>\n",
              "      <td>white</td>\n",
              "      <td>7.4</td>\n",
              "      <td>0.280</td>\n",
              "      <td>0.42</td>\n",
              "      <td>19.80</td>\n",
              "      <td>0.066</td>\n",
              "      <td>53.0</td>\n",
              "      <td>195.0</td>\n",
              "      <td>1.00000</td>\n",
              "      <td>2.96</td>\n",
              "      <td>0.44</td>\n",
              "      <td>9.1</td>\n",
              "      <td>5</td>\n",
              "    </tr>\n",
              "    <tr>\n",
              "      <th>444</th>\n",
              "      <td>NaN</td>\n",
              "      <td>white</td>\n",
              "      <td>6.9</td>\n",
              "      <td>0.240</td>\n",
              "      <td>0.36</td>\n",
              "      <td>20.80</td>\n",
              "      <td>0.031</td>\n",
              "      <td>40.0</td>\n",
              "      <td>139.0</td>\n",
              "      <td>0.99750</td>\n",
              "      <td>3.20</td>\n",
              "      <td>0.33</td>\n",
              "      <td>11.0</td>\n",
              "      <td>6</td>\n",
              "    </tr>\n",
              "    <tr>\n",
              "      <th>1454</th>\n",
              "      <td>NaN</td>\n",
              "      <td>white</td>\n",
              "      <td>8.3</td>\n",
              "      <td>0.210</td>\n",
              "      <td>0.49</td>\n",
              "      <td>19.80</td>\n",
              "      <td>0.054</td>\n",
              "      <td>50.0</td>\n",
              "      <td>231.0</td>\n",
              "      <td>1.00120</td>\n",
              "      <td>2.99</td>\n",
              "      <td>0.54</td>\n",
              "      <td>9.2</td>\n",
              "      <td>5</td>\n",
              "    </tr>\n",
              "    <tr>\n",
              "      <th>1608</th>\n",
              "      <td>NaN</td>\n",
              "      <td>white</td>\n",
              "      <td>6.9</td>\n",
              "      <td>0.270</td>\n",
              "      <td>0.49</td>\n",
              "      <td>23.50</td>\n",
              "      <td>0.057</td>\n",
              "      <td>59.0</td>\n",
              "      <td>235.0</td>\n",
              "      <td>1.00240</td>\n",
              "      <td>2.98</td>\n",
              "      <td>0.47</td>\n",
              "      <td>8.6</td>\n",
              "      <td>5</td>\n",
              "    </tr>\n",
              "    <tr>\n",
              "      <th>1653</th>\n",
              "      <td>NaN</td>\n",
              "      <td>white</td>\n",
              "      <td>7.9</td>\n",
              "      <td>0.330</td>\n",
              "      <td>0.28</td>\n",
              "      <td>31.60</td>\n",
              "      <td>0.053</td>\n",
              "      <td>35.0</td>\n",
              "      <td>176.0</td>\n",
              "      <td>1.01030</td>\n",
              "      <td>3.15</td>\n",
              "      <td>0.38</td>\n",
              "      <td>8.8</td>\n",
              "      <td>6</td>\n",
              "    </tr>\n",
              "    <tr>\n",
              "      <th>1663</th>\n",
              "      <td>NaN</td>\n",
              "      <td>white</td>\n",
              "      <td>7.9</td>\n",
              "      <td>0.330</td>\n",
              "      <td>0.28</td>\n",
              "      <td>31.60</td>\n",
              "      <td>0.053</td>\n",
              "      <td>35.0</td>\n",
              "      <td>176.0</td>\n",
              "      <td>1.01030</td>\n",
              "      <td>3.15</td>\n",
              "      <td>0.38</td>\n",
              "      <td>8.8</td>\n",
              "      <td>6</td>\n",
              "    </tr>\n",
              "    <tr>\n",
              "      <th>2489</th>\n",
              "      <td>NaN</td>\n",
              "      <td>white</td>\n",
              "      <td>6.1</td>\n",
              "      <td>0.280</td>\n",
              "      <td>0.24</td>\n",
              "      <td>19.95</td>\n",
              "      <td>0.074</td>\n",
              "      <td>32.0</td>\n",
              "      <td>174.0</td>\n",
              "      <td>0.99922</td>\n",
              "      <td>3.19</td>\n",
              "      <td>0.44</td>\n",
              "      <td>9.3</td>\n",
              "      <td>6</td>\n",
              "    </tr>\n",
              "    <tr>\n",
              "      <th>2492</th>\n",
              "      <td>NaN</td>\n",
              "      <td>white</td>\n",
              "      <td>6.1</td>\n",
              "      <td>0.280</td>\n",
              "      <td>0.24</td>\n",
              "      <td>19.95</td>\n",
              "      <td>0.074</td>\n",
              "      <td>32.0</td>\n",
              "      <td>174.0</td>\n",
              "      <td>0.99922</td>\n",
              "      <td>3.19</td>\n",
              "      <td>0.44</td>\n",
              "      <td>9.3</td>\n",
              "      <td>6</td>\n",
              "    </tr>\n",
              "    <tr>\n",
              "      <th>2620</th>\n",
              "      <td>NaN</td>\n",
              "      <td>white</td>\n",
              "      <td>6.5</td>\n",
              "      <td>0.280</td>\n",
              "      <td>0.28</td>\n",
              "      <td>20.40</td>\n",
              "      <td>0.041</td>\n",
              "      <td>40.0</td>\n",
              "      <td>144.0</td>\n",
              "      <td>1.00020</td>\n",
              "      <td>3.14</td>\n",
              "      <td>0.38</td>\n",
              "      <td>8.7</td>\n",
              "      <td>5</td>\n",
              "    </tr>\n",
              "    <tr>\n",
              "      <th>2781</th>\n",
              "      <td>NaN</td>\n",
              "      <td>white</td>\n",
              "      <td>7.8</td>\n",
              "      <td>0.965</td>\n",
              "      <td>0.60</td>\n",
              "      <td>65.80</td>\n",
              "      <td>0.074</td>\n",
              "      <td>8.0</td>\n",
              "      <td>160.0</td>\n",
              "      <td>1.03898</td>\n",
              "      <td>3.39</td>\n",
              "      <td>0.69</td>\n",
              "      <td>11.7</td>\n",
              "      <td>6</td>\n",
              "    </tr>\n",
              "    <tr>\n",
              "      <th>2785</th>\n",
              "      <td>NaN</td>\n",
              "      <td>white</td>\n",
              "      <td>6.4</td>\n",
              "      <td>0.240</td>\n",
              "      <td>0.25</td>\n",
              "      <td>20.20</td>\n",
              "      <td>0.083</td>\n",
              "      <td>35.0</td>\n",
              "      <td>157.0</td>\n",
              "      <td>0.99976</td>\n",
              "      <td>3.17</td>\n",
              "      <td>0.50</td>\n",
              "      <td>9.1</td>\n",
              "      <td>5</td>\n",
              "    </tr>\n",
              "    <tr>\n",
              "      <th>2787</th>\n",
              "      <td>NaN</td>\n",
              "      <td>white</td>\n",
              "      <td>6.4</td>\n",
              "      <td>0.240</td>\n",
              "      <td>0.25</td>\n",
              "      <td>20.20</td>\n",
              "      <td>0.083</td>\n",
              "      <td>35.0</td>\n",
              "      <td>157.0</td>\n",
              "      <td>0.99976</td>\n",
              "      <td>3.17</td>\n",
              "      <td>0.50</td>\n",
              "      <td>9.1</td>\n",
              "      <td>5</td>\n",
              "    </tr>\n",
              "    <tr>\n",
              "      <th>3014</th>\n",
              "      <td>NaN</td>\n",
              "      <td>white</td>\n",
              "      <td>7.0</td>\n",
              "      <td>0.450</td>\n",
              "      <td>0.34</td>\n",
              "      <td>19.80</td>\n",
              "      <td>0.040</td>\n",
              "      <td>12.0</td>\n",
              "      <td>67.0</td>\n",
              "      <td>0.99760</td>\n",
              "      <td>3.07</td>\n",
              "      <td>0.38</td>\n",
              "      <td>11.0</td>\n",
              "      <td>6</td>\n",
              "    </tr>\n",
              "    <tr>\n",
              "      <th>3023</th>\n",
              "      <td>NaN</td>\n",
              "      <td>white</td>\n",
              "      <td>7.0</td>\n",
              "      <td>0.450</td>\n",
              "      <td>0.34</td>\n",
              "      <td>19.80</td>\n",
              "      <td>0.040</td>\n",
              "      <td>12.0</td>\n",
              "      <td>67.0</td>\n",
              "      <td>0.99760</td>\n",
              "      <td>3.07</td>\n",
              "      <td>0.38</td>\n",
              "      <td>11.0</td>\n",
              "      <td>6</td>\n",
              "    </tr>\n",
              "    <tr>\n",
              "      <th>3420</th>\n",
              "      <td>NaN</td>\n",
              "      <td>white</td>\n",
              "      <td>7.6</td>\n",
              "      <td>0.280</td>\n",
              "      <td>0.49</td>\n",
              "      <td>20.15</td>\n",
              "      <td>0.060</td>\n",
              "      <td>30.0</td>\n",
              "      <td>145.0</td>\n",
              "      <td>1.00196</td>\n",
              "      <td>3.01</td>\n",
              "      <td>0.44</td>\n",
              "      <td>8.5</td>\n",
              "      <td>5</td>\n",
              "    </tr>\n",
              "    <tr>\n",
              "      <th>3497</th>\n",
              "      <td>NaN</td>\n",
              "      <td>white</td>\n",
              "      <td>7.7</td>\n",
              "      <td>0.430</td>\n",
              "      <td>1.00</td>\n",
              "      <td>19.95</td>\n",
              "      <td>0.032</td>\n",
              "      <td>42.0</td>\n",
              "      <td>164.0</td>\n",
              "      <td>0.99742</td>\n",
              "      <td>3.29</td>\n",
              "      <td>0.50</td>\n",
              "      <td>12.0</td>\n",
              "      <td>6</td>\n",
              "    </tr>\n",
              "    <tr>\n",
              "      <th>3547</th>\n",
              "      <td>NaN</td>\n",
              "      <td>white</td>\n",
              "      <td>7.3</td>\n",
              "      <td>0.200</td>\n",
              "      <td>0.29</td>\n",
              "      <td>19.90</td>\n",
              "      <td>0.039</td>\n",
              "      <td>69.0</td>\n",
              "      <td>237.0</td>\n",
              "      <td>1.00037</td>\n",
              "      <td>3.10</td>\n",
              "      <td>0.48</td>\n",
              "      <td>9.2</td>\n",
              "      <td>6</td>\n",
              "    </tr>\n",
              "    <tr>\n",
              "      <th>3619</th>\n",
              "      <td>NaN</td>\n",
              "      <td>white</td>\n",
              "      <td>6.8</td>\n",
              "      <td>0.450</td>\n",
              "      <td>0.28</td>\n",
              "      <td>26.05</td>\n",
              "      <td>0.031</td>\n",
              "      <td>27.0</td>\n",
              "      <td>122.0</td>\n",
              "      <td>1.00295</td>\n",
              "      <td>3.06</td>\n",
              "      <td>0.42</td>\n",
              "      <td>10.6</td>\n",
              "      <td>6</td>\n",
              "    </tr>\n",
              "    <tr>\n",
              "      <th>3623</th>\n",
              "      <td>NaN</td>\n",
              "      <td>white</td>\n",
              "      <td>6.8</td>\n",
              "      <td>0.450</td>\n",
              "      <td>0.28</td>\n",
              "      <td>26.05</td>\n",
              "      <td>0.031</td>\n",
              "      <td>27.0</td>\n",
              "      <td>122.0</td>\n",
              "      <td>1.00295</td>\n",
              "      <td>3.06</td>\n",
              "      <td>0.42</td>\n",
              "      <td>10.6</td>\n",
              "      <td>6</td>\n",
              "    </tr>\n",
              "    <tr>\n",
              "      <th>3730</th>\n",
              "      <td>NaN</td>\n",
              "      <td>white</td>\n",
              "      <td>6.2</td>\n",
              "      <td>0.220</td>\n",
              "      <td>0.20</td>\n",
              "      <td>20.80</td>\n",
              "      <td>0.035</td>\n",
              "      <td>58.0</td>\n",
              "      <td>184.0</td>\n",
              "      <td>1.00022</td>\n",
              "      <td>3.11</td>\n",
              "      <td>0.53</td>\n",
              "      <td>9.0</td>\n",
              "      <td>6</td>\n",
              "    </tr>\n",
              "    <tr>\n",
              "      <th>4107</th>\n",
              "      <td>NaN</td>\n",
              "      <td>white</td>\n",
              "      <td>6.8</td>\n",
              "      <td>0.300</td>\n",
              "      <td>0.26</td>\n",
              "      <td>20.30</td>\n",
              "      <td>0.037</td>\n",
              "      <td>45.0</td>\n",
              "      <td>150.0</td>\n",
              "      <td>0.99727</td>\n",
              "      <td>3.04</td>\n",
              "      <td>0.38</td>\n",
              "      <td>12.3</td>\n",
              "      <td>6</td>\n",
              "    </tr>\n",
              "    <tr>\n",
              "      <th>4480</th>\n",
              "      <td>NaN</td>\n",
              "      <td>white</td>\n",
              "      <td>5.9</td>\n",
              "      <td>0.220</td>\n",
              "      <td>0.45</td>\n",
              "      <td>22.60</td>\n",
              "      <td>0.120</td>\n",
              "      <td>55.0</td>\n",
              "      <td>122.0</td>\n",
              "      <td>0.99636</td>\n",
              "      <td>3.10</td>\n",
              "      <td>0.35</td>\n",
              "      <td>12.8</td>\n",
              "      <td>5</td>\n",
              "    </tr>\n",
              "  </tbody>\n",
              "</table>\n",
              "</div>\n",
              "      <button class=\"colab-df-convert\" onclick=\"convertToInteractive('df-711b6159-ed33-4dbe-8453-273d180b0a92')\"\n",
              "              title=\"Convert this dataframe to an interactive table.\"\n",
              "              style=\"display:none;\">\n",
              "        \n",
              "  <svg xmlns=\"http://www.w3.org/2000/svg\" height=\"24px\"viewBox=\"0 0 24 24\"\n",
              "       width=\"24px\">\n",
              "    <path d=\"M0 0h24v24H0V0z\" fill=\"none\"/>\n",
              "    <path d=\"M18.56 5.44l.94 2.06.94-2.06 2.06-.94-2.06-.94-.94-2.06-.94 2.06-2.06.94zm-11 1L8.5 8.5l.94-2.06 2.06-.94-2.06-.94L8.5 2.5l-.94 2.06-2.06.94zm10 10l.94 2.06.94-2.06 2.06-.94-2.06-.94-.94-2.06-.94 2.06-2.06.94z\"/><path d=\"M17.41 7.96l-1.37-1.37c-.4-.4-.92-.59-1.43-.59-.52 0-1.04.2-1.43.59L10.3 9.45l-7.72 7.72c-.78.78-.78 2.05 0 2.83L4 21.41c.39.39.9.59 1.41.59.51 0 1.02-.2 1.41-.59l7.78-7.78 2.81-2.81c.8-.78.8-2.07 0-2.86zM5.41 20L4 18.59l7.72-7.72 1.47 1.35L5.41 20z\"/>\n",
              "  </svg>\n",
              "      </button>\n",
              "      \n",
              "  <style>\n",
              "    .colab-df-container {\n",
              "      display:flex;\n",
              "      flex-wrap:wrap;\n",
              "      gap: 12px;\n",
              "    }\n",
              "\n",
              "    .colab-df-convert {\n",
              "      background-color: #E8F0FE;\n",
              "      border: none;\n",
              "      border-radius: 50%;\n",
              "      cursor: pointer;\n",
              "      display: none;\n",
              "      fill: #1967D2;\n",
              "      height: 32px;\n",
              "      padding: 0 0 0 0;\n",
              "      width: 32px;\n",
              "    }\n",
              "\n",
              "    .colab-df-convert:hover {\n",
              "      background-color: #E2EBFA;\n",
              "      box-shadow: 0px 1px 2px rgba(60, 64, 67, 0.3), 0px 1px 3px 1px rgba(60, 64, 67, 0.15);\n",
              "      fill: #174EA6;\n",
              "    }\n",
              "\n",
              "    [theme=dark] .colab-df-convert {\n",
              "      background-color: #3B4455;\n",
              "      fill: #D2E3FC;\n",
              "    }\n",
              "\n",
              "    [theme=dark] .colab-df-convert:hover {\n",
              "      background-color: #434B5C;\n",
              "      box-shadow: 0px 1px 3px 1px rgba(0, 0, 0, 0.15);\n",
              "      filter: drop-shadow(0px 1px 2px rgba(0, 0, 0, 0.3));\n",
              "      fill: #FFFFFF;\n",
              "    }\n",
              "  </style>\n",
              "\n",
              "      <script>\n",
              "        const buttonEl =\n",
              "          document.querySelector('#df-711b6159-ed33-4dbe-8453-273d180b0a92 button.colab-df-convert');\n",
              "        buttonEl.style.display =\n",
              "          google.colab.kernel.accessAllowed ? 'block' : 'none';\n",
              "\n",
              "        async function convertToInteractive(key) {\n",
              "          const element = document.querySelector('#df-711b6159-ed33-4dbe-8453-273d180b0a92');\n",
              "          const dataTable =\n",
              "            await google.colab.kernel.invokeFunction('convertToInteractive',\n",
              "                                                     [key], {});\n",
              "          if (!dataTable) return;\n",
              "\n",
              "          const docLinkHtml = 'Like what you see? Visit the ' +\n",
              "            '<a target=\"_blank\" href=https://colab.research.google.com/notebooks/data_table.ipynb>data table notebook</a>'\n",
              "            + ' to learn more about interactive tables.';\n",
              "          element.innerHTML = '';\n",
              "          dataTable['output_type'] = 'display_data';\n",
              "          await google.colab.output.renderOutput(dataTable, element);\n",
              "          const docLink = document.createElement('div');\n",
              "          docLink.innerHTML = docLinkHtml;\n",
              "          element.appendChild(docLink);\n",
              "        }\n",
              "      </script>\n",
              "    </div>\n",
              "  </div>\n",
              "  "
            ]
          },
          "metadata": {},
          "execution_count": 27
        }
      ]
    },
    {
      "cell_type": "code",
      "source": [
        "# trimming - delete the outlier data\n",
        "new_df = df.loc[(df['residual sugar'] <= upper_limit) & (df['residual sugar'] >= lower_limit)]\n",
        "print('before removing outliers:', len(df))\n",
        "print('after removing outliers:',len(new_df))\n",
        "print('outliers:', len(df)-len(new_df))"
      ],
      "metadata": {
        "colab": {
          "base_uri": "https://localhost:8080/"
        },
        "id": "LWpI0RLH8s0X",
        "outputId": "2ebecc1c-bb39-4e20-bc4d-67e4d57ebec6"
      },
      "execution_count": 28,
      "outputs": [
        {
          "output_type": "stream",
          "name": "stdout",
          "text": [
            "before removing outliers: 6497\n",
            "after removing outliers: 6469\n",
            "outliers: 28\n"
          ]
        }
      ]
    },
    {
      "cell_type": "code",
      "source": [
        "sns.boxplot(new_df['residual sugar'])"
      ],
      "metadata": {
        "colab": {
          "base_uri": "https://localhost:8080/",
          "height": 296
        },
        "id": "LtqSFGPt8yiE",
        "outputId": "87b5799f-a28f-4e27-c2b6-be3b88c38f1d"
      },
      "execution_count": 29,
      "outputs": [
        {
          "output_type": "execute_result",
          "data": {
            "text/plain": [
              "<matplotlib.axes._subplots.AxesSubplot at 0x7f17aabafe20>"
            ]
          },
          "metadata": {},
          "execution_count": 29
        },
        {
          "output_type": "display_data",
          "data": {
            "text/plain": [
              "<Figure size 432x288 with 1 Axes>"
            ],
            "image/png": "[encoded data removed]"
          },
          "metadata": {
            "needs_background": "light"
          }
        }
      ]
    },
    {
      "cell_type": "code",
      "source": [
        "# capping - change the outlier values to upper (or) lower limit values\n",
        "new_df = df.copy()\n",
        "new_df.loc[(new_df['residual sugar']>=upper_limit), 'residual sugar'] = upper_limit\n",
        "new_df.loc[(new_df['residual sugar']<=lower_limit), 'residual sugar'] = lower_limit"
      ],
      "metadata": {
        "id": "e1CB6LLU82pp"
      },
      "execution_count": 30,
      "outputs": []
    },
    {
      "cell_type": "code",
      "source": [
        "sns.boxplot(new_df['residual sugar'])"
      ],
      "metadata": {
        "colab": {
          "base_uri": "https://localhost:8080/",
          "height": 296
        },
        "id": "ffLh16SB89Be",
        "outputId": "b94d637a-fe63-4c02-eff8-131165488e74"
      },
      "execution_count": 31,
      "outputs": [
        {
          "output_type": "execute_result",
          "data": {
            "text/plain": [
              "<matplotlib.axes._subplots.AxesSubplot at 0x7f17aab17820>"
            ]
          },
          "metadata": {},
          "execution_count": 31
        },
        {
          "output_type": "display_data",
          "data": {
            "text/plain": [
              "<Figure size 432x288 with 1 Axes>"
            ],
            "image/png": "[encoded data removed]"
          },
          "metadata": {
            "needs_background": "light"
          }
        }
      ]
    },
    {
      "cell_type": "code",
      "source": [
        "len(new_df)"
      ],
      "metadata": {
        "colab": {
          "base_uri": "https://localhost:8080/"
        },
        "id": "H2KT1f3B8-7H",
        "outputId": "b8682057-4824-4134-ce2b-21c796fec278"
      },
      "execution_count": 32,
      "outputs": [
        {
          "output_type": "execute_result",
          "data": {
            "text/plain": [
              "6497"
            ]
          },
          "metadata": {},
          "execution_count": 32
        }
      ]
    },
    {
      "cell_type": "code",
      "source": [
        "##IQR method\n",
        "q1 = df['residual sugar'].quantile(0.25)\n",
        "q3 = df['residual sugar'].quantile(0.75)\n",
        "iqr = q3-q1\n",
        "q1, q3, iqr"
      ],
      "metadata": {
        "colab": {
          "base_uri": "https://localhost:8080/"
        },
        "id": "thgV9P909EQC",
        "outputId": "ed2cd41a-6b9f-4729-d072-6bb492cf61fd"
      },
      "execution_count": 33,
      "outputs": [
        {
          "output_type": "execute_result",
          "data": {
            "text/plain": [
              "(1.8, 8.1, 6.3)"
            ]
          },
          "metadata": {},
          "execution_count": 33
        }
      ]
    },
    {
      "cell_type": "code",
      "source": [
        "upper_limit = q3 + (1.5 * iqr)\n",
        "lower_limit = q1 - (1.5 * iqr)\n",
        "lower_limit, upper_limit"
      ],
      "metadata": {
        "colab": {
          "base_uri": "https://localhost:8080/"
        },
        "id": "6FRBI7IK9LnL",
        "outputId": "95839d2e-f393-409f-d760-6038c38ab3d0"
      },
      "execution_count": 34,
      "outputs": [
        {
          "output_type": "execute_result",
          "data": {
            "text/plain": [
              "(-7.6499999999999995, 17.549999999999997)"
            ]
          },
          "metadata": {},
          "execution_count": 34
        }
      ]
    },
    {
      "cell_type": "code",
      "source": [
        "sns.boxplot(df['residual sugar'])"
      ],
      "metadata": {
        "colab": {
          "base_uri": "https://localhost:8080/",
          "height": 296
        },
        "id": "VEhXJeeb9NGB",
        "outputId": "4dedac5e-51d9-4391-bd8e-048a09cab32d"
      },
      "execution_count": 35,
      "outputs": [
        {
          "output_type": "execute_result",
          "data": {
            "text/plain": [
              "<matplotlib.axes._subplots.AxesSubplot at 0x7f17aaaf3940>"
            ]
          },
          "metadata": {},
          "execution_count": 35
        },
        {
          "output_type": "display_data",
          "data": {
            "text/plain": [
              "<Figure size 432x288 with 1 Axes>"
            ],
            "image/png": "[encoded data removed]"
          },
          "metadata": {
            "needs_background": "light"
          }
        }
      ]
    },
    {
      "cell_type": "code",
      "source": [
        "# find the outliers\n",
        "df.loc[(df['residual sugar'] > upper_limit) | (df['residual sugar'] < lower_limit)]"
      ],
      "metadata": {
        "colab": {
          "base_uri": "https://localhost:8080/",
          "height": 522
        },
        "id": "ncAI9bHJ9RnV",
        "outputId": "f00e8743-179f-4d53-bf22-426f28defbcc"
      },
      "execution_count": 36,
      "outputs": [
        {
          "output_type": "execute_result",
          "data": {
            "text/plain": [
              "      Unnamed: 0   type  fixed acidity  volatile acidity  citric acid  \\\n",
              "0            NaN  white            7.0             0.270         0.36   \n",
              "7            NaN  white            7.0             0.270         0.36   \n",
              "14           NaN  white            8.3             0.420         0.62   \n",
              "38           NaN  white            7.3             0.240         0.39   \n",
              "39           NaN  white            7.3             0.240         0.39   \n",
              "...          ...    ...            ...               ...          ...   \n",
              "4691         NaN  white            6.9             0.190         0.31   \n",
              "4694         NaN  white            6.9             0.190         0.31   \n",
              "4748         NaN  white            6.1             0.340         0.24   \n",
              "4749         NaN  white            6.2             0.350         0.25   \n",
              "4778         NaN  white            5.8             0.315         0.19   \n",
              "\n",
              "      residual sugar  chlorides  free sulfur dioxide  total sulfur dioxide  \\\n",
              "0              20.70      0.045                 45.0                 170.0   \n",
              "7              20.70      0.045                 45.0                 170.0   \n",
              "14             19.25      0.040                 41.0                 172.0   \n",
              "38             17.95      0.057                 45.0                 149.0   \n",
              "39             17.95      0.057                 45.0                 149.0   \n",
              "...              ...        ...                  ...                   ...   \n",
              "4691           19.25      0.043                 38.0                 167.0   \n",
              "4694           19.25      0.043                 38.0                 167.0   \n",
              "4748           18.35      0.050                 33.0                 184.0   \n",
              "4749           18.40      0.051                 28.0                 182.0   \n",
              "4778           19.40      0.031                 28.0                 106.0   \n",
              "\n",
              "      density    pH  sulphates  alcohol  quality  \n",
              "0     1.00100  3.00       0.45     8.80        6  \n",
              "7     1.00100  3.00       0.45     8.80        6  \n",
              "14    1.00020  2.98       0.67     9.70        5  \n",
              "38    0.99990  3.21       0.36     8.60        5  \n",
              "39    0.99990  3.21       0.36     8.60        5  \n",
              "...       ...   ...        ...      ...      ...  \n",
              "4691  0.99954  2.93       0.52     9.10        7  \n",
              "4694  0.99954  2.93       0.52     9.10        7  \n",
              "4748  0.99943  3.12       0.61     9.30        5  \n",
              "4749  0.99946  3.13       0.62     9.30        6  \n",
              "4778  0.99704  2.97       0.40    10.55        6  \n",
              "\n",
              "[118 rows x 14 columns]"
            ],
            "text/html": [
              "\n",
              "  <div id=\"df-d92615ec-c9dd-45ec-ad1f-f31b0adb3113\">\n",
              "    <div class=\"colab-df-container\">\n",
              "      <div>\n",
              "<style scoped>\n",
              "    .dataframe tbody tr th:only-of-type {\n",
              "        vertical-align: middle;\n",
              "    }\n",
              "\n",
              "    .dataframe tbody tr th {\n",
              "        vertical-align: top;\n",
              "    }\n",
              "\n",
              "    .dataframe thead th {\n",
              "        text-align: right;\n",
              "    }\n",
              "</style>\n",
              "<table border=\"1\" class=\"dataframe\">\n",
              "  <thead>\n",
              "    <tr style=\"text-align: right;\">\n",
              "      <th></th>\n",
              "      <th>Unnamed: 0</th>\n",
              "      <th>type</th>\n",
              "      <th>fixed acidity</th>\n",
              "      <th>volatile acidity</th>\n",
              "      <th>citric acid</th>\n",
              "      <th>residual sugar</th>\n",
              "      <th>chlorides</th>\n",
              "      <th>free sulfur dioxide</th>\n",
              "      <th>total sulfur dioxide</th>\n",
              "      <th>density</th>\n",
              "      <th>pH</th>\n",
              "      <th>sulphates</th>\n",
              "      <th>alcohol</th>\n",
              "      <th>quality</th>\n",
              "    </tr>\n",
              "  </thead>\n",
              "  <tbody>\n",
              "    <tr>\n",
              "      <th>0</th>\n",
              "      <td>NaN</td>\n",
              "      <td>white</td>\n",
              "      <td>7.0</td>\n",
              "      <td>0.270</td>\n",
              "      <td>0.36</td>\n",
              "      <td>20.70</td>\n",
              "      <td>0.045</td>\n",
              "      <td>45.0</td>\n",
              "      <td>170.0</td>\n",
              "      <td>1.00100</td>\n",
              "      <td>3.00</td>\n",
              "      <td>0.45</td>\n",
              "      <td>8.80</td>\n",
              "      <td>6</td>\n",
              "    </tr>\n",
              "    <tr>\n",
              "      <th>7</th>\n",
              "      <td>NaN</td>\n",
              "      <td>white</td>\n",
              "      <td>7.0</td>\n",
              "      <td>0.270</td>\n",
              "      <td>0.36</td>\n",
              "      <td>20.70</td>\n",
              "      <td>0.045</td>\n",
              "      <td>45.0</td>\n",
              "      <td>170.0</td>\n",
              "      <td>1.00100</td>\n",
              "      <td>3.00</td>\n",
              "      <td>0.45</td>\n",
              "      <td>8.80</td>\n",
              "      <td>6</td>\n",
              "    </tr>\n",
              "    <tr>\n",
              "      <th>14</th>\n",
              "      <td>NaN</td>\n",
              "      <td>white</td>\n",
              "      <td>8.3</td>\n",
              "      <td>0.420</td>\n",
              "      <td>0.62</td>\n",
              "      <td>19.25</td>\n",
              "      <td>0.040</td>\n",
              "      <td>41.0</td>\n",
              "      <td>172.0</td>\n",
              "      <td>1.00020</td>\n",
              "      <td>2.98</td>\n",
              "      <td>0.67</td>\n",
              "      <td>9.70</td>\n",
              "      <td>5</td>\n",
              "    </tr>\n",
              "    <tr>\n",
              "      <th>38</th>\n",
              "      <td>NaN</td>\n",
              "      <td>white</td>\n",
              "      <td>7.3</td>\n",
              "      <td>0.240</td>\n",
              "      <td>0.39</td>\n",
              "      <td>17.95</td>\n",
              "      <td>0.057</td>\n",
              "      <td>45.0</td>\n",
              "      <td>149.0</td>\n",
              "      <td>0.99990</td>\n",
              "      <td>3.21</td>\n",
              "      <td>0.36</td>\n",
              "      <td>8.60</td>\n",
              "      <td>5</td>\n",
              "    </tr>\n",
              "    <tr>\n",
              "      <th>39</th>\n",
              "      <td>NaN</td>\n",
              "      <td>white</td>\n",
              "      <td>7.3</td>\n",
              "      <td>0.240</td>\n",
              "      <td>0.39</td>\n",
              "      <td>17.95</td>\n",
              "      <td>0.057</td>\n",
              "      <td>45.0</td>\n",
              "      <td>149.0</td>\n",
              "      <td>0.99990</td>\n",
              "      <td>3.21</td>\n",
              "      <td>0.36</td>\n",
              "      <td>8.60</td>\n",
              "      <td>5</td>\n",
              "    </tr>\n",
              "    <tr>\n",
              "      <th>...</th>\n",
              "      <td>...</td>\n",
              "      <td>...</td>\n",
              "      <td>...</td>\n",
              "      <td>...</td>\n",
              "      <td>...</td>\n",
              "      <td>...</td>\n",
              "      <td>...</td>\n",
              "      <td>...</td>\n",
              "      <td>...</td>\n",
              "      <td>...</td>\n",
              "      <td>...</td>\n",
              "      <td>...</td>\n",
              "      <td>...</td>\n",
              "      <td>...</td>\n",
              "    </tr>\n",
              "    <tr>\n",
              "      <th>4691</th>\n",
              "      <td>NaN</td>\n",
              "      <td>white</td>\n",
              "      <td>6.9</td>\n",
              "      <td>0.190</td>\n",
              "      <td>0.31</td>\n",
              "      <td>19.25</td>\n",
              "      <td>0.043</td>\n",
              "      <td>38.0</td>\n",
              "      <td>167.0</td>\n",
              "      <td>0.99954</td>\n",
              "      <td>2.93</td>\n",
              "      <td>0.52</td>\n",
              "      <td>9.10</td>\n",
              "      <td>7</td>\n",
              "    </tr>\n",
              "    <tr>\n",
              "      <th>4694</th>\n",
              "      <td>NaN</td>\n",
              "      <td>white</td>\n",
              "      <td>6.9</td>\n",
              "      <td>0.190</td>\n",
              "      <td>0.31</td>\n",
              "      <td>19.25</td>\n",
              "      <td>0.043</td>\n",
              "      <td>38.0</td>\n",
              "      <td>167.0</td>\n",
              "      <td>0.99954</td>\n",
              "      <td>2.93</td>\n",
              "      <td>0.52</td>\n",
              "      <td>9.10</td>\n",
              "      <td>7</td>\n",
              "    </tr>\n",
              "    <tr>\n",
              "      <th>4748</th>\n",
              "      <td>NaN</td>\n",
              "      <td>white</td>\n",
              "      <td>6.1</td>\n",
              "      <td>0.340</td>\n",
              "      <td>0.24</td>\n",
              "      <td>18.35</td>\n",
              "      <td>0.050</td>\n",
              "      <td>33.0</td>\n",
              "      <td>184.0</td>\n",
              "      <td>0.99943</td>\n",
              "      <td>3.12</td>\n",
              "      <td>0.61</td>\n",
              "      <td>9.30</td>\n",
              "      <td>5</td>\n",
              "    </tr>\n",
              "    <tr>\n",
              "      <th>4749</th>\n",
              "      <td>NaN</td>\n",
              "      <td>white</td>\n",
              "      <td>6.2</td>\n",
              "      <td>0.350</td>\n",
              "      <td>0.25</td>\n",
              "      <td>18.40</td>\n",
              "      <td>0.051</td>\n",
              "      <td>28.0</td>\n",
              "      <td>182.0</td>\n",
              "      <td>0.99946</td>\n",
              "      <td>3.13</td>\n",
              "      <td>0.62</td>\n",
              "      <td>9.30</td>\n",
              "      <td>6</td>\n",
              "    </tr>\n",
              "    <tr>\n",
              "      <th>4778</th>\n",
              "      <td>NaN</td>\n",
              "      <td>white</td>\n",
              "      <td>5.8</td>\n",
              "      <td>0.315</td>\n",
              "      <td>0.19</td>\n",
              "      <td>19.40</td>\n",
              "      <td>0.031</td>\n",
              "      <td>28.0</td>\n",
              "      <td>106.0</td>\n",
              "      <td>0.99704</td>\n",
              "      <td>2.97</td>\n",
              "      <td>0.40</td>\n",
              "      <td>10.55</td>\n",
              "      <td>6</td>\n",
              "    </tr>\n",
              "  </tbody>\n",
              "</table>\n",
              "<p>118 rows × 14 columns</p>\n",
              "</div>\n",
              "      <button class=\"colab-df-convert\" onclick=\"convertToInteractive('df-d92615ec-c9dd-45ec-ad1f-f31b0adb3113')\"\n",
              "              title=\"Convert this dataframe to an interactive table.\"\n",
              "              style=\"display:none;\">\n",
              "        \n",
              "  <svg xmlns=\"http://www.w3.org/2000/svg\" height=\"24px\"viewBox=\"0 0 24 24\"\n",
              "       width=\"24px\">\n",
              "    <path d=\"M0 0h24v24H0V0z\" fill=\"none\"/>\n",
              "    <path d=\"M18.56 5.44l.94 2.06.94-2.06 2.06-.94-2.06-.94-.94-2.06-.94 2.06-2.06.94zm-11 1L8.5 8.5l.94-2.06 2.06-.94-2.06-.94L8.5 2.5l-.94 2.06-2.06.94zm10 10l.94 2.06.94-2.06 2.06-.94-2.06-.94-.94-2.06-.94 2.06-2.06.94z\"/><path d=\"M17.41 7.96l-1.37-1.37c-.4-.4-.92-.59-1.43-.59-.52 0-1.04.2-1.43.59L10.3 9.45l-7.72 7.72c-.78.78-.78 2.05 0 2.83L4 21.41c.39.39.9.59 1.41.59.51 0 1.02-.2 1.41-.59l7.78-7.78 2.81-2.81c.8-.78.8-2.07 0-2.86zM5.41 20L4 18.59l7.72-7.72 1.47 1.35L5.41 20z\"/>\n",
              "  </svg>\n",
              "      </button>\n",
              "      \n",
              "  <style>\n",
              "    .colab-df-container {\n",
              "      display:flex;\n",
              "      flex-wrap:wrap;\n",
              "      gap: 12px;\n",
              "    }\n",
              "\n",
              "    .colab-df-convert {\n",
              "      background-color: #E8F0FE;\n",
              "      border: none;\n",
              "      border-radius: 50%;\n",
              "      cursor: pointer;\n",
              "      display: none;\n",
              "      fill: #1967D2;\n",
              "      height: 32px;\n",
              "      padding: 0 0 0 0;\n",
              "      width: 32px;\n",
              "    }\n",
              "\n",
              "    .colab-df-convert:hover {\n",
              "      background-color: #E2EBFA;\n",
              "      box-shadow: 0px 1px 2px rgba(60, 64, 67, 0.3), 0px 1px 3px 1px rgba(60, 64, 67, 0.15);\n",
              "      fill: #174EA6;\n",
              "    }\n",
              "\n",
              "    [theme=dark] .colab-df-convert {\n",
              "      background-color: #3B4455;\n",
              "      fill: #D2E3FC;\n",
              "    }\n",
              "\n",
              "    [theme=dark] .colab-df-convert:hover {\n",
              "      background-color: #434B5C;\n",
              "      box-shadow: 0px 1px 3px 1px rgba(0, 0, 0, 0.15);\n",
              "      filter: drop-shadow(0px 1px 2px rgba(0, 0, 0, 0.3));\n",
              "      fill: #FFFFFF;\n",
              "    }\n",
              "  </style>\n",
              "\n",
              "      <script>\n",
              "        const buttonEl =\n",
              "          document.querySelector('#df-d92615ec-c9dd-45ec-ad1f-f31b0adb3113 button.colab-df-convert');\n",
              "        buttonEl.style.display =\n",
              "          google.colab.kernel.accessAllowed ? 'block' : 'none';\n",
              "\n",
              "        async function convertToInteractive(key) {\n",
              "          const element = document.querySelector('#df-d92615ec-c9dd-45ec-ad1f-f31b0adb3113');\n",
              "          const dataTable =\n",
              "            await google.colab.kernel.invokeFunction('convertToInteractive',\n",
              "                                                     [key], {});\n",
              "          if (!dataTable) return;\n",
              "\n",
              "          const docLinkHtml = 'Like what you see? Visit the ' +\n",
              "            '<a target=\"_blank\" href=https://colab.research.google.com/notebooks/data_table.ipynb>data table notebook</a>'\n",
              "            + ' to learn more about interactive tables.';\n",
              "          element.innerHTML = '';\n",
              "          dataTable['output_type'] = 'display_data';\n",
              "          await google.colab.output.renderOutput(dataTable, element);\n",
              "          const docLink = document.createElement('div');\n",
              "          docLink.innerHTML = docLinkHtml;\n",
              "          element.appendChild(docLink);\n",
              "        }\n",
              "      </script>\n",
              "    </div>\n",
              "  </div>\n",
              "  "
            ]
          },
          "metadata": {},
          "execution_count": 36
        }
      ]
    },
    {
      "cell_type": "code",
      "source": [
        "# trimming - delete the outlier data\n",
        "new_df = df.loc[(df['residual sugar'] <= upper_limit) & (df['residual sugar'] >= lower_limit)]\n",
        "print('before removing outliers:', len(df))\n",
        "print('after removing outliers:',len(new_df))\n",
        "print('outliers:', len(df)-len(new_df))"
      ],
      "metadata": {
        "colab": {
          "base_uri": "https://localhost:8080/"
        },
        "id": "FLW4oH-o9WFT",
        "outputId": "bf651891-6330-40f1-b0c7-bcefc3fea22b"
      },
      "execution_count": 37,
      "outputs": [
        {
          "output_type": "stream",
          "name": "stdout",
          "text": [
            "before removing outliers: 6497\n",
            "after removing outliers: 6377\n",
            "outliers: 120\n"
          ]
        }
      ]
    },
    {
      "cell_type": "code",
      "source": [
        "sns.boxplot(new_df['residual sugar'])"
      ],
      "metadata": {
        "colab": {
          "base_uri": "https://localhost:8080/",
          "height": 296
        },
        "id": "INlzsNDF9abM",
        "outputId": "5e97c6b7-7fe4-4e3d-a7af-748fafbaaee9"
      },
      "execution_count": 38,
      "outputs": [
        {
          "output_type": "execute_result",
          "data": {
            "text/plain": [
              "<matplotlib.axes._subplots.AxesSubplot at 0x7f17aaa5cf10>"
            ]
          },
          "metadata": {},
          "execution_count": 38
        },
        {
          "output_type": "display_data",
          "data": {
            "text/plain": [
              "<Figure size 432x288 with 1 Axes>"
            ],
            "image/png": "[encoded data removed]"
          },
          "metadata": {
            "needs_background": "light"
          }
        }
      ]
    },
    {
      "cell_type": "code",
      "source": [
        "# capping - change the outlier values to upper (or) lower limit values\n",
        "new_df = df.copy()\n",
        "new_df.loc[(new_df['residual sugar']>upper_limit), 'residual sugar'] = upper_limit\n",
        "new_df.loc[(new_df['residual sugar']<lower_limit), 'residual sugar'] = lower_limit\n",
        "sns.boxplot(new_df['residual sugar'])"
      ],
      "metadata": {
        "colab": {
          "base_uri": "https://localhost:8080/",
          "height": 296
        },
        "id": "d6Jyogmr9fL6",
        "outputId": "37a4172b-5794-436a-d80d-cc7fd4b26658"
      },
      "execution_count": 39,
      "outputs": [
        {
          "output_type": "execute_result",
          "data": {
            "text/plain": [
              "<matplotlib.axes._subplots.AxesSubplot at 0x7f17aa9c72b0>"
            ]
          },
          "metadata": {},
          "execution_count": 39
        },
        {
          "output_type": "display_data",
          "data": {
            "text/plain": [
              "<Figure size 432x288 with 1 Axes>"
            ],
            "image/png": "[encoded data removed]"
          },
          "metadata": {
            "needs_background": "light"
          }
        }
      ]
    }
  ]
}